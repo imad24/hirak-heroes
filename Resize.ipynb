{
 "cells": [
  {
   "cell_type": "markdown",
   "metadata": {},
   "source": [
    "### Imports"
   ]
  },
  {
   "cell_type": "code",
   "execution_count": 7,
   "metadata": {},
   "outputs": [],
   "source": [
    "import os\n",
    "from PIL import Image\n",
    "from matplotlib.pyplot import imshow\n",
    "import numpy as np"
   ]
  },
  {
   "cell_type": "markdown",
   "metadata": {},
   "source": [
    "### Crop Batch processing "
   ]
  },
  {
   "cell_type": "code",
   "execution_count": 8,
   "metadata": {},
   "outputs": [],
   "source": [
    "dirpath = \"./images/fullsize/\"\n",
    "\n",
    "for file in os.listdir(dirpath):\n",
    "    filename = os.path.abspath(os.path.join(dirpath,file))\n",
    "    if filename.endswith(\".jpg\") or filename.endswith(\".jpeg\"): \n",
    "        img = Image.open(filename)\n",
    "        cropped = img.crop((0,100,600,600))#img.crop((0,0,500,600))\n",
    "        cropped.save(\"./images/detenus/%s\"%str(file).lower())"
   ]
  },
  {
   "cell_type": "markdown",
   "metadata": {},
   "source": [
    "### Crop Once"
   ]
  },
  {
   "cell_type": "code",
   "execution_count": 9,
   "metadata": {},
   "outputs": [],
   "source": [
    "dirpath = \"./images/\"\n",
    "file=\"hero.jpg\"\n",
    "filename = os.path.abspath(os.path.join(dirpath,file))\n",
    "if filename.endswith(\".jpg\") or filename.endswith(\".jpeg\"): \n",
    "    img = Image.open(filename)\n",
    "    cropped = img.crop((0,100,600,600))#img.crop((0,0,500,600))\n",
    "    cropped.save(\"./images/600x500_%s\"%str(file).lower())"
   ]
  },
  {
   "cell_type": "markdown",
   "metadata": {},
   "source": [
    "### Resize"
   ]
  },
  {
   "cell_type": "code",
   "execution_count": 11,
   "metadata": {},
   "outputs": [],
   "source": [
    "dirpath = \"./images/\"\n",
    "file=\"hero.jpg\"\n",
    "filename = os.path.abspath(os.path.join(dirpath,file))\n",
    "if filename.endswith(\".jpg\") or filename.endswith(\".jpeg\"): \n",
    "    img = Image.open(filename)\n",
    "    cropped = img.resize((600,500))#img.crop((0,0,500,600))\n",
    "    cropped.save(\"./images/600x500_%s\"%str(file).lower())"
   ]
  },
  {
   "cell_type": "markdown",
   "metadata": {},
   "source": [
    "## Web Scraping"
   ]
  },
  {
   "cell_type": "code",
   "execution_count": 4,
   "metadata": {},
   "outputs": [],
   "source": [
    "from bs4 import BeautifulSoup\n",
    "import urllib.request\n",
    "import re\n",
    "\n",
    "url = \"https://www.facebook.com/pg/comitenationalpourlaliberationdesdetenusCNLD/photos/?tab=album&album_id=116507463052727&ref=page_internal\"\n",
    "page = urllib.request.urlopen(url)\n",
    "soup = BeautifulSoup(page, 'html.parser')\n",
    "regex = re.compile('^_2eec')\n",
    "content_lis = soup.find_all('div', attrs={'class': \"regex\"})\n",
    "print(content_lis)"
   ]
  },
  {
   "cell_type": "code",
   "execution_count": null,
   "metadata": {},
   "outputs": [],
   "source": []
  },
  {
   "cell_type": "code",
   "execution_count": null,
   "metadata": {},
   "outputs": [],
   "source": []
  }
 ],
 "metadata": {
  "kernelspec": {
   "display_name": "Python 3",
   "language": "python",
   "name": "python3"
  },
  "language_info": {
   "codemirror_mode": {
    "name": "ipython",
    "version": 3
   },
   "file_extension": ".py",
   "mimetype": "text/x-python",
   "name": "python",
   "nbconvert_exporter": "python",
   "pygments_lexer": "ipython3",
   "version": "3.7.5"
  }
 },
 "nbformat": 4,
 "nbformat_minor": 2
}
