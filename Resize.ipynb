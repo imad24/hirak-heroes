{
 "cells": [
  {
   "cell_type": "code",
   "execution_count": 91,
   "metadata": {},
   "outputs": [],
   "source": [
    "import os\n",
    "from PIL import Image\n",
    "from matplotlib.pyplot import imshow\n",
    "import numpy as np\n",
    "\n",
    "dirpath = \"./images/original/\"\n",
    "\n",
    "for file in os.listdir(dirpath):\n",
    "    filename = os.path.abspath(os.path.join(dirpath,file))\n",
    "    if filename.endswith(\".jpg\") or filename.endswith(\".jpeg\"): \n",
    "        img = Image.open(filename)\n",
    "        cropped = img.crop((0,0,500,600))\n",
    "        cropped.save(\"./images/%s\"%file)"
   ]
  }
 ],
 "metadata": {
  "kernelspec": {
   "display_name": "Python 3",
   "language": "python",
   "name": "python3"
  },
  "language_info": {
   "codemirror_mode": {
    "name": "ipython",
    "version": 3
   },
   "file_extension": ".py",
   "mimetype": "text/x-python",
   "name": "python",
   "nbconvert_exporter": "python",
   "pygments_lexer": "ipython3",
   "version": "3.7.5"
  }
 },
 "nbformat": 4,
 "nbformat_minor": 2
}
